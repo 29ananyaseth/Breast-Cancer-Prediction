{
 "cells": [
  {
   "cell_type": "code",
   "execution_count": 53,
   "metadata": {},
   "outputs": [
    {
     "name": "stdout",
     "output_type": "stream",
     "text": [
      "Accuracy: 0.956140350877193\n",
      "Classification Report:\n",
      "               precision    recall  f1-score   support\n",
      "\n",
      "           0       0.96      0.97      0.97        71\n",
      "           1       0.95      0.93      0.94        43\n",
      "\n",
      "    accuracy                           0.96       114\n",
      "   macro avg       0.96      0.95      0.95       114\n",
      "weighted avg       0.96      0.96      0.96       114\n",
      "\n"
     ]
    }
   ],
   "source": [
    "# Import necessary libraries\n",
    "import pandas as pd\n",
    "from sklearn.model_selection import train_test_split\n",
    "from sklearn.preprocessing import StandardScaler\n",
    "from sklearn.svm import SVC\n",
    "from sklearn.metrics import classification_report, accuracy_score\n",
    "\n",
    "# Load the dataset\n",
    "# Replace 'your_data.csv' with the actual path to your dataset\n",
    "df = pd.read_csv('breast-cancer.csv')\n",
    "\n",
    "# Select the relevant features\n",
    "features = ['radius_mean', 'perimeter_mean', 'area_mean', 'smoothness_mean', 'concavity_mean', 'symmetry_mean']\n",
    "X = df[features]\n",
    "\n",
    "# Target variable (diagnosis: M for malignant, B for benign)\n",
    "y = df['diagnosis'].apply(lambda x: 1 if x == 'M' else 0)  # Convert 'M' to 1 and 'B' to 0 for classification\n",
    "\n",
    "# Split the dataset into training and testing sets (80% train, 20% test)\n",
    "X_train, X_test, y_train, y_test = train_test_split(X, y, test_size=0.2, random_state=42)\n",
    "\n",
    "# Standardize the data (important for SVM)\n",
    "scaler = StandardScaler()\n",
    "X_train = scaler.fit_transform(X_train)\n",
    "X_test = scaler.transform(X_test)\n",
    "\n",
    "# Create and train the SVM model\n",
    "svm_model = SVC(kernel='linear')  # Linear kernel (you can try other kernels like 'rbf' if needed)\n",
    "svm_model.fit(X_train, y_train)\n",
    "\n",
    "# Make predictions\n",
    "y_pred = svm_model.predict(X_test)\n",
    "\n",
    "# Evaluate the model\n",
    "print(\"Accuracy:\", accuracy_score(y_test, y_pred))\n",
    "print(\"Classification Report:\\n\", classification_report(y_test, y_pred))\n"
   ]
  },
  {
   "cell_type": "code",
   "execution_count": 54,
   "metadata": {},
   "outputs": [
    {
     "name": "stdout",
     "output_type": "stream",
     "text": [
      "Predicted Class for the given sample: Benign\n"
     ]
    }
   ],
   "source": [
    "def predict_new_data(new_data):\n",
    "    # Standardize the new data (use the same scaler as before)\n",
    "    new_data_scaled = scaler.transform(new_data)\n",
    "    \n",
    "    # Predict using the trained SVM model\n",
    "    prediction = svm_model.predict(new_data_scaled)\n",
    "    \n",
    "    # Return the predicted class (0 = Benign, 1 = Malignant)\n",
    "    return 'Malignant' if prediction == 1 else 'Benign'\n",
    "\n",
    "# Example: Test with a new sample of data\n",
    "new_data = pd.DataFrame({\n",
    "    'radius_mean': [15.4], \n",
    "    'perimeter_mean': [85.0], \n",
    "    'area_mean': [530.0], \n",
    "    'smoothness_mean': [0.097], \n",
    "    'concavity_mean': [0.057], \n",
    "    'symmetry_mean': [0.182]\n",
    "})\n",
    "\n",
    "# Call the function to get the prediction\n",
    "result = predict_new_data(new_data)\n",
    "print(\"Predicted Class for the given sample:\", result)"
   ]
  },
  {
   "cell_type": "code",
   "execution_count": 55,
   "metadata": {},
   "outputs": [
    {
     "name": "stdout",
     "output_type": "stream",
     "text": [
      "Model and Scaler saved successfully!\n"
     ]
    }
   ],
   "source": [
    "import joblib\n",
    "\n",
    "# Save the trained model and scaler to a .pkl file\n",
    "joblib.dump(svm_model, 'svm_model.pkl')\n",
    "joblib.dump(scaler, 'scaler.pkl')\n",
    "\n",
    "print(\"Model and Scaler saved successfully!\")\n"
   ]
  },
  {
   "cell_type": "code",
   "execution_count": 56,
   "metadata": {},
   "outputs": [
    {
     "name": "stdout",
     "output_type": "stream",
     "text": [
      "Predicted Class for the given sample: Benign\n"
     ]
    }
   ],
   "source": [
    "# Load the saved model and scaler\n",
    "svm_model = joblib.load('svm_model.pkl')\n",
    "scaler = joblib.load('scaler.pkl')\n",
    "\n",
    "# Test the loaded model\n",
    "new_data = pd.DataFrame({\n",
    "    'radius_mean': [15.4], \n",
    "    'perimeter_mean': [85.0], \n",
    "    'area_mean': [530.0], \n",
    "    'smoothness_mean': [0.097], \n",
    "    'concavity_mean': [0.057], \n",
    "    'symmetry_mean': [0.182]\n",
    "})\n",
    "\n",
    "result = predict_new_data(new_data)\n",
    "print(\"Predicted Class for the given sample:\", result)\n"
   ]
  },
  {
   "cell_type": "code",
   "execution_count": null,
   "metadata": {},
   "outputs": [],
   "source": []
  }
 ],
 "metadata": {
  "kernelspec": {
   "display_name": "Python 3",
   "language": "python",
   "name": "python3"
  },
  "language_info": {
   "codemirror_mode": {
    "name": "ipython",
    "version": 3
   },
   "file_extension": ".py",
   "mimetype": "text/x-python",
   "name": "python",
   "nbconvert_exporter": "python",
   "pygments_lexer": "ipython3",
   "version": "3.12.0"
  }
 },
 "nbformat": 4,
 "nbformat_minor": 2
}
